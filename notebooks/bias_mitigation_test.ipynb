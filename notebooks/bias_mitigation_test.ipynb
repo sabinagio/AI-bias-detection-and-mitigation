{
 "cells": [
  {
   "cell_type": "code",
   "execution_count": 3,
   "metadata": {},
   "outputs": [
    {
     "data": {
      "text/html": [
       "<div>\n",
       "<style scoped>\n",
       "    .dataframe tbody tr th:only-of-type {\n",
       "        vertical-align: middle;\n",
       "    }\n",
       "\n",
       "    .dataframe tbody tr th {\n",
       "        vertical-align: top;\n",
       "    }\n",
       "\n",
       "    .dataframe thead th {\n",
       "        text-align: right;\n",
       "    }\n",
       "</style>\n",
       "<table border=\"1\" class=\"dataframe\">\n",
       "  <thead>\n",
       "    <tr style=\"text-align: right;\">\n",
       "      <th></th>\n",
       "      <th>Unnamed: 0</th>\n",
       "      <th>count</th>\n",
       "      <th>hate_speech</th>\n",
       "      <th>offensive_language</th>\n",
       "      <th>neither</th>\n",
       "      <th>label</th>\n",
       "      <th>tweet</th>\n",
       "      <th>clean_tweet</th>\n",
       "      <th>protected_attribute</th>\n",
       "    </tr>\n",
       "  </thead>\n",
       "  <tbody>\n",
       "    <tr>\n",
       "      <th>0</th>\n",
       "      <td>0</td>\n",
       "      <td>1</td>\n",
       "      <td>0</td>\n",
       "      <td>0</td>\n",
       "      <td>3</td>\n",
       "      <td>2</td>\n",
       "      <td>!!! RT @mayasolovely: As a woman you shouldn't...</td>\n",
       "      <td>woman complain cleaning house amp man always t...</td>\n",
       "      <td>0</td>\n",
       "    </tr>\n",
       "    <tr>\n",
       "      <th>1</th>\n",
       "      <td>1</td>\n",
       "      <td>1</td>\n",
       "      <td>0</td>\n",
       "      <td>3</td>\n",
       "      <td>0</td>\n",
       "      <td>1</td>\n",
       "      <td>!!!!! RT @mleew17: boy dats cold...tyga dwn ba...</td>\n",
       "      <td>boy dats cold tyga dwn bad cuffin dat hoe st p...</td>\n",
       "      <td>0</td>\n",
       "    </tr>\n",
       "    <tr>\n",
       "      <th>2</th>\n",
       "      <td>2</td>\n",
       "      <td>1</td>\n",
       "      <td>0</td>\n",
       "      <td>3</td>\n",
       "      <td>0</td>\n",
       "      <td>1</td>\n",
       "      <td>!!!!!!! RT @UrKindOfBrand Dawg!!!! RT @80sbaby...</td>\n",
       "      <td>dawg ever fuck bitch sta cry confused shit</td>\n",
       "      <td>0</td>\n",
       "    </tr>\n",
       "    <tr>\n",
       "      <th>3</th>\n",
       "      <td>3</td>\n",
       "      <td>1</td>\n",
       "      <td>0</td>\n",
       "      <td>2</td>\n",
       "      <td>1</td>\n",
       "      <td>1</td>\n",
       "      <td>!!!!!!!!! RT @C_G_Anderson: @viva_based she lo...</td>\n",
       "      <td>g anderson based look like tranny</td>\n",
       "      <td>0</td>\n",
       "    </tr>\n",
       "    <tr>\n",
       "      <th>4</th>\n",
       "      <td>4</td>\n",
       "      <td>1</td>\n",
       "      <td>0</td>\n",
       "      <td>6</td>\n",
       "      <td>0</td>\n",
       "      <td>1</td>\n",
       "      <td>!!!!!!!!!!!!! RT @ShenikaRoberts: The shit you...</td>\n",
       "      <td>shit hear might true might faker bitch told ya</td>\n",
       "      <td>0</td>\n",
       "    </tr>\n",
       "  </tbody>\n",
       "</table>\n",
       "</div>"
      ],
      "text/plain": [
       "   Unnamed: 0  count  hate_speech  offensive_language  neither  label  \\\n",
       "0           0      1            0                   0        3      2   \n",
       "1           1      1            0                   3        0      1   \n",
       "2           2      1            0                   3        0      1   \n",
       "3           3      1            0                   2        1      1   \n",
       "4           4      1            0                   6        0      1   \n",
       "\n",
       "                                               tweet  \\\n",
       "0  !!! RT @mayasolovely: As a woman you shouldn't...   \n",
       "1  !!!!! RT @mleew17: boy dats cold...tyga dwn ba...   \n",
       "2  !!!!!!! RT @UrKindOfBrand Dawg!!!! RT @80sbaby...   \n",
       "3  !!!!!!!!! RT @C_G_Anderson: @viva_based she lo...   \n",
       "4  !!!!!!!!!!!!! RT @ShenikaRoberts: The shit you...   \n",
       "\n",
       "                                         clean_tweet  protected_attribute  \n",
       "0  woman complain cleaning house amp man always t...                    0  \n",
       "1  boy dats cold tyga dwn bad cuffin dat hoe st p...                    0  \n",
       "2         dawg ever fuck bitch sta cry confused shit                    0  \n",
       "3                  g anderson based look like tranny                    0  \n",
       "4     shit hear might true might faker bitch told ya                    0  "
      ]
     },
     "execution_count": 3,
     "metadata": {},
     "output_type": "execute_result"
    }
   ],
   "source": [
    "import pandas as pd\n",
    "from pulse import *\n",
    "\n",
    "df = pd.read_csv('labeled_data_prep.csv')\n",
    "df.head()"
   ]
  },
  {
   "cell_type": "code",
   "execution_count": 4,
   "metadata": {},
   "outputs": [
    {
     "name": "stdout",
     "output_type": "stream",
     "text": [
      "              precision    recall  f1-score   support\n",
      "\n",
      "           0       0.51      0.13      0.21       287\n",
      "           1       0.92      0.97      0.94      3851\n",
      "           2       0.85      0.84      0.85       819\n",
      "\n",
      "    accuracy                           0.90      4957\n",
      "   macro avg       0.76      0.65      0.66      4957\n",
      "weighted avg       0.88      0.90      0.88      4957\n",
      "\n",
      "Overall AUC: 0.9183694395033682\n",
      "Subgroup AUC: 0.9221678678494207\n",
      "BPSN AUC: 0.9148649071003655\n",
      "BNSP AUC: 0.9221678678494207\n",
      "0.8481012658227848\n",
      "              precision    recall  f1-score   support\n",
      "\n",
      "           0       0.73      0.10      0.17        82\n",
      "           1       0.84      0.99      0.91       471\n",
      "           2       0.95      0.78      0.86        79\n",
      "\n",
      "    accuracy                           0.85       632\n",
      "   macro avg       0.84      0.62      0.65       632\n",
      "weighted avg       0.84      0.85      0.81       632\n",
      "\n"
     ]
    }
   ],
   "source": [
    "overall_auc, subgroup_auc, bpsn_auc, bnsp_auc, privileged_group_acc, subgroup_accuracy, acc_delta = detect_bias_subgroup(df, 'clean_tweet', 'protected_attribute', multi_class=True)"
   ]
  },
  {
   "cell_type": "code",
   "execution_count": 6,
   "metadata": {},
   "outputs": [
    {
     "name": "stdout",
     "output_type": "stream",
     "text": [
      "Accuracy: 0.7924\n",
      "Classification Report:\n",
      "              precision    recall  f1-score   support\n",
      "\n",
      "           0       0.50      0.05      0.09       287\n",
      "           1       0.79      1.00      0.88      3851\n",
      "           2       0.97      0.09      0.17       819\n",
      "\n",
      "    accuracy                           0.79      4957\n",
      "   macro avg       0.76      0.38      0.38      4957\n",
      "weighted avg       0.80      0.79      0.72      4957\n",
      "\n",
      "Overall AUC: 0.8280217645675009\n",
      "Subgroup AUC: 0.8993353649121817\n",
      "BPSN AUC: 0.8173775950907339\n",
      "BNSP AUC: 0.8993353649121817\n"
     ]
    }
   ],
   "source": [
    "# mitigate, re-weighting\n",
    "overall_auc, subgroup_auc, bpsn_auc, bnsp_auc = correct_bias_subgroup_weights(df, 'clean_tweet', 'protected_attribute', multi_class=True)"
   ]
  },
  {
   "cell_type": "code",
   "execution_count": null,
   "metadata": {},
   "outputs": [
    {
     "name": "stdout",
     "output_type": "stream",
     "text": [
      "620/620 [==============================] - 2s 3ms/step\n",
      "155/155 [==============================] - 0s 2ms/step\n",
      "155/155 [==============================] - 0s 2ms/step\n",
      "4957\n",
      "4957\n",
      "14871\n",
      "Accuracy: 0.8727\n",
      "Classification Report:\n",
      "              precision    recall  f1-score   support\n",
      "\n",
      "           0       0.53      0.06      0.11       287\n",
      "           1       0.88      0.98      0.93      3851\n",
      "           2       0.86      0.65      0.74       819\n",
      "\n",
      "    accuracy                           0.87      4957\n",
      "   macro avg       0.76      0.56      0.59      4957\n",
      "weighted avg       0.85      0.87      0.85      4957\n",
      "\n",
      "[0.04080876 0.84923935 0.10995195 ... 0.01230817 0.97723126 0.01046051]\n",
      "ROC-AUC: 0.8880134999813404\n",
      "Overall AUC: 0.8880134999813404\n",
      "Subgroup AUC: 0.865586639571199\n",
      "BPSN AUC: 0.8827878406326195\n",
      "BNSP AUC: 0.865586639571199\n"
     ]
    }
   ],
   "source": [
    "# Adversarial debiasing - killed me dead, that it did\n",
    "overall_auc, subgroup_auc, bpsn_auc, bnsp_auc = correct_bias_subgroup_ad(df, 'clean_tweet', 'protected_attribute', multi_class=True)"
   ]
  },
  {
   "cell_type": "code",
   "execution_count": 17,
   "metadata": {},
   "outputs": [],
   "source": [
    "metrics = pd.DataFrame()\n",
    "row = {\n",
    "    'subgroup': df['protected_attribute'].unique()[1:].copy(),\n",
    "    'bspn_auc': 0.9221678678494207,\n",
    "    'bpsn_auc': 0.8173775950907339,\n",
    "    'subgroup_auc': 0.9221678678494207,\n",
    "    'method': 'Original'\n",
    "}\n",
    "metrics = pd.concat([metrics, pd.DataFrame(row)], axis=0)\n",
    "\n",
    "row = {\n",
    "    'subgroup': df['protected_attribute'].unique()[1:].copy(),\n",
    "    'bspn_auc': 0.8993353649121817,\n",
    "    'bpsn_auc': 0.9148649071003655,\n",
    "    'subgroup_auc': 0.8993353649121817,\n",
    "    'method': 'Correct Bias Weights'\n",
    "}\n",
    "metrics = pd.concat([metrics, pd.DataFrame(row)], axis=0)\n",
    "\n",
    "row = {\n",
    "    'subgroup': df['protected_attribute'].unique()[1:].copy(),\n",
    "    'bspn_auc': 0.865586639571199,\n",
    "    'bpsn_auc': 0.8827878406326195,\n",
    "    'subgroup_auc': 0.865586639571199,\n",
    "    'method': 'Adversarial Debiasing'\n",
    "}\n",
    "metrics = pd.concat([metrics, pd.DataFrame(row)], axis=0)"
   ]
  },
  {
   "cell_type": "code",
   "execution_count": 25,
   "metadata": {},
   "outputs": [
    {
     "data": {
      "text/html": [
       "<div>\n",
       "<style scoped>\n",
       "    .dataframe tbody tr th:only-of-type {\n",
       "        vertical-align: middle;\n",
       "    }\n",
       "\n",
       "    .dataframe tbody tr th {\n",
       "        vertical-align: top;\n",
       "    }\n",
       "\n",
       "    .dataframe thead th {\n",
       "        text-align: right;\n",
       "    }\n",
       "</style>\n",
       "<table border=\"1\" class=\"dataframe\">\n",
       "  <thead>\n",
       "    <tr style=\"text-align: right;\">\n",
       "      <th></th>\n",
       "      <th>subgroup</th>\n",
       "      <th>bspn_auc</th>\n",
       "      <th>bpsn_auc</th>\n",
       "      <th>subgroup_auc</th>\n",
       "      <th>method</th>\n",
       "    </tr>\n",
       "  </thead>\n",
       "  <tbody>\n",
       "    <tr>\n",
       "      <th>0</th>\n",
       "      <td>1</td>\n",
       "      <td>0.922168</td>\n",
       "      <td>0.817378</td>\n",
       "      <td>0.922168</td>\n",
       "      <td>Original</td>\n",
       "    </tr>\n",
       "    <tr>\n",
       "      <th>0</th>\n",
       "      <td>1</td>\n",
       "      <td>0.899335</td>\n",
       "      <td>0.914865</td>\n",
       "      <td>0.899335</td>\n",
       "      <td>Correct Bias Weights</td>\n",
       "    </tr>\n",
       "    <tr>\n",
       "      <th>0</th>\n",
       "      <td>1</td>\n",
       "      <td>0.865587</td>\n",
       "      <td>0.882788</td>\n",
       "      <td>0.865587</td>\n",
       "      <td>Adversarial Debiasing</td>\n",
       "    </tr>\n",
       "  </tbody>\n",
       "</table>\n",
       "</div>"
      ],
      "text/plain": [
       "   subgroup  bspn_auc  bpsn_auc  subgroup_auc                 method\n",
       "0         1  0.922168  0.817378      0.922168               Original\n",
       "0         1  0.899335  0.914865      0.899335   Correct Bias Weights\n",
       "0         1  0.865587  0.882788      0.865587  Adversarial Debiasing"
      ]
     },
     "execution_count": 25,
     "metadata": {},
     "output_type": "execute_result"
    }
   ],
   "source": [
    "metrics"
   ]
  },
  {
   "cell_type": "code",
   "execution_count": 19,
   "metadata": {},
   "outputs": [],
   "source": [
    "# Saving to show in streamlit\n",
    "metrics.to_csv('metrics.csv', index=False)"
   ]
  }
 ],
 "metadata": {
  "kernelspec": {
   "display_name": "new-tf-hugging-env",
   "language": "python",
   "name": "python3"
  },
  "language_info": {
   "codemirror_mode": {
    "name": "ipython",
    "version": 3
   },
   "file_extension": ".py",
   "mimetype": "text/x-python",
   "name": "python",
   "nbconvert_exporter": "python",
   "pygments_lexer": "ipython3",
   "version": "3.9.13"
  },
  "orig_nbformat": 4,
  "vscode": {
   "interpreter": {
    "hash": "0266a5e9b8c7835e99cb9543067316e4305cb92c4327a34501cb53449597095c"
   }
  }
 },
 "nbformat": 4,
 "nbformat_minor": 2
}
